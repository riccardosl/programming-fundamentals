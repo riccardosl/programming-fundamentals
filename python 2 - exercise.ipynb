{
 "cells": [
  {
   "cell_type": "markdown",
   "metadata": {},
   "source": [
    "# W5 - Python conditions and loops assignment"
   ]
  },
  {
   "cell_type": "markdown",
   "metadata": {},
   "source": [
    "# 1. Using for loop, create nested list from dictionary, see example\n",
    "```python\n",
    "fruits = {'banana':3,'apple':2, 'mango':1, 'kiwi':5}\n",
    "fruits_list = [['banana', 'banana', 'banana'], ['apple', 'apple'], ['mango'], ['kiwi', 'kiwi', 'kiwi', 'kiwi', 'kiwi']]\n",
    "```"
   ]
  },
  {
   "cell_type": "code",
   "execution_count": null,
   "metadata": {},
   "outputs": [],
   "source": []
  },
  {
   "cell_type": "markdown",
   "metadata": {},
   "source": [
    "# 2. Select the shortest element from the list\n",
    "```python\n",
    "fruits = ['banana','apple', 'mango', 'kiwi']\n",
    "shortest_fruit = 'kiwi'\n",
    "```"
   ]
  },
  {
   "cell_type": "code",
   "execution_count": 4,
   "metadata": {},
   "outputs": [
    {
     "data": {
      "text/plain": [
       "'run'"
      ]
     },
     "execution_count": 4,
     "metadata": {},
     "output_type": "execute_result"
    }
   ],
   "source": [
    "sports = ['swimming','run','skiing','yoga']\n",
    "min(sports)"
   ]
  },
  {
   "cell_type": "markdown",
   "metadata": {},
   "source": [
    "# 3. Using loops and conditions, count occurrence of numbers, letters and other symbols in the string\n",
    "Example\n",
    "```python\n",
    "'''What a to do to die today at a 1/4 or 2 to 2. \n",
    "A terrible difficult thing to say but a harder thing still to do. \n",
    "The dragon will come at the beat of the drum with a rat-tat-tat-tat-tat-tattoo \n",
    "at a 1/4 or 2 to 2 today, at a 1/4 or 2 to 2.'''\n",
    "Number occurence: 12\n",
    "Letter occurence: 158\n",
    "Other symbols: 66\n",
    "```"
   ]
  },
  {
   "cell_type": "code",
   "execution_count": null,
   "metadata": {},
   "outputs": [],
   "source": []
  },
  {
   "cell_type": "markdown",
   "metadata": {},
   "source": [
    "# 4. Calculate dog's age in human years using [this article](https://pets.webmd.com/dogs/how-to-calculate-your-dogs-age)\n",
    "*Note: for simplicity, use values for medium dogs*"
   ]
  },
  {
   "cell_type": "code",
   "execution_count": null,
   "metadata": {},
   "outputs": [],
   "source": []
  },
  {
   "cell_type": "markdown",
   "metadata": {},
   "source": [
    "# 5. Count the number of even and odd numbers from a series of numbers.\n",
    "```python\n",
    "seq = [1,44,30,15,2,18]\n",
    "```\n",
    "Odd numbers: 2\n",
    "Even numbers: 4"
   ]
  },
  {
   "cell_type": "code",
   "execution_count": null,
   "metadata": {},
   "outputs": [],
   "source": []
  },
  {
   "cell_type": "markdown",
   "metadata": {},
   "source": [
    "# 6. Using loops, print following pattern\n",
    "```\n",
    "*\n",
    "**\n",
    "***\n",
    "****\n",
    "```"
   ]
  },
  {
   "cell_type": "code",
   "execution_count": null,
   "metadata": {},
   "outputs": [],
   "source": []
  },
  {
   "cell_type": "markdown",
   "metadata": {},
   "source": [
    "# 7. Using list comprehensions, transform all vowels within the string to upper case\n",
    "\n",
    "example `python -> pYthOn`"
   ]
  },
  {
   "cell_type": "code",
   "execution_count": null,
   "metadata": {},
   "outputs": [],
   "source": []
  },
  {
   "cell_type": "markdown",
   "metadata": {},
   "source": [
    "# 8. Print position number of the letter\n",
    "1. Ask user to type letter (just one)\n",
    "2. Print position of the letter in the alphabet\n",
    "\n",
    "Example\n",
    "```\n",
    "Type letter: B\n",
    "Letter B position is 2.\n",
    "```"
   ]
  },
  {
   "cell_type": "code",
   "execution_count": null,
   "metadata": {},
   "outputs": [],
   "source": []
  },
  {
   "cell_type": "markdown",
   "metadata": {},
   "source": [
    "# 9. Find the median of three values (do not used median function)\n",
    "Ask user to input 3 values\n",
    "Example\n",
    "```\n",
    "Type number:5\n",
    "Type number:12\n",
    "Type number:6\n",
    "\n",
    "Median value is 5.\n",
    "```\n"
   ]
  },
  {
   "cell_type": "code",
   "execution_count": null,
   "metadata": {},
   "outputs": [],
   "source": []
  },
  {
   "cell_type": "markdown",
   "metadata": {},
   "source": [
    "# 10. Using `break` and `continue` statements, print numbers\n",
    "1. Ask user for their favourite number \n",
    "2. If youser chose number 13, ask user for another number\n",
    "3. Do not print number 13\n",
    "4. Finish printing after user's favourite number"
   ]
  },
  {
   "cell_type": "code",
   "execution_count": null,
   "metadata": {},
   "outputs": [],
   "source": []
  },
  {
   "cell_type": "markdown",
   "metadata": {},
   "source": [
    "# BONUS: Using nested loops, print first letter of your name:\n",
    "\n",
    "```\n",
    "  ***                                                                   \n",
    " *   *                                                                  \n",
    " *   *                                                                  \n",
    " *****                                                                  \n",
    " *   *                                                                  \n",
    " *   *                                                                  \n",
    " *   *\n",
    "```"
   ]
  },
  {
   "cell_type": "code",
   "execution_count": null,
   "metadata": {},
   "outputs": [],
   "source": []
  }
 ],
 "metadata": {
  "kernelspec": {
   "display_name": "Python 3",
   "language": "python",
   "name": "python3"
  },
  "language_info": {
   "codemirror_mode": {
    "name": "ipython",
    "version": 3
   },
   "file_extension": ".py",
   "mimetype": "text/x-python",
   "name": "python",
   "nbconvert_exporter": "python",
   "pygments_lexer": "ipython3",
   "version": "3.7.0"
  }
 },
 "nbformat": 4,
 "nbformat_minor": 2
}
